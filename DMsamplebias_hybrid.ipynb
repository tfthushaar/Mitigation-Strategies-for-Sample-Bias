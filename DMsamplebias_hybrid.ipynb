{
  "nbformat": 4,
  "nbformat_minor": 0,
  "metadata": {
    "colab": {
      "provenance": []
    },
    "kernelspec": {
      "name": "python3",
      "display_name": "Python 3"
    },
    "language_info": {
      "name": "python"
    }
  },
  "cells": [
    {
      "cell_type": "markdown",
      "source": [
        "**DETECTION**"
      ],
      "metadata": {
        "id": "_qm0QbxbWi-C"
      }
    },
    {
      "cell_type": "code",
      "execution_count": 1,
      "metadata": {
        "id": "X1N1C4WEUm0y"
      },
      "outputs": [],
      "source": [
        "import pandas as pd\n",
        "import seaborn as sns\n",
        "import matplotlib.pyplot as plt\n",
        "from scipy.stats import chi2_contingency"
      ]
    },
    {
      "cell_type": "code",
      "source": [
        "# Load the dataset from the UCI repository\n",
        "url = \"https://archive.ics.uci.edu/ml/machine-learning-databases/adult/adult.data\"\n",
        "column_names = [\"age\", \"workclass\", \"fnlwgt\", \"education\", \"education_num\", \"marital_status\",\n",
        "                \"occupation\", \"relationship\", \"race\", \"sex\", \"capital_gain\", \"capital_loss\",\n",
        "                \"hours_per_week\", \"native_country\", \"income\"]\n",
        "data = pd.read_csv(url, header=None, names=column_names, na_values=' ?')"
      ],
      "metadata": {
        "id": "Jnv2iuKUUyM1"
      },
      "execution_count": 2,
      "outputs": []
    },
    {
      "cell_type": "code",
      "source": [
        "print(data.head())"
      ],
      "metadata": {
        "colab": {
          "base_uri": "https://localhost:8080/"
        },
        "id": "Y6n_6qgZU2Vi",
        "outputId": "dc2a9203-a34d-41a8-9993-8f2ed2abf370"
      },
      "execution_count": 3,
      "outputs": [
        {
          "output_type": "stream",
          "name": "stdout",
          "text": [
            "   age          workclass  fnlwgt   education  education_num  \\\n",
            "0   39          State-gov   77516   Bachelors             13   \n",
            "1   50   Self-emp-not-inc   83311   Bachelors             13   \n",
            "2   38            Private  215646     HS-grad              9   \n",
            "3   53            Private  234721        11th              7   \n",
            "4   28            Private  338409   Bachelors             13   \n",
            "\n",
            "        marital_status          occupation    relationship    race      sex  \\\n",
            "0        Never-married        Adm-clerical   Not-in-family   White     Male   \n",
            "1   Married-civ-spouse     Exec-managerial         Husband   White     Male   \n",
            "2             Divorced   Handlers-cleaners   Not-in-family   White     Male   \n",
            "3   Married-civ-spouse   Handlers-cleaners         Husband   Black     Male   \n",
            "4   Married-civ-spouse      Prof-specialty            Wife   Black   Female   \n",
            "\n",
            "   capital_gain  capital_loss  hours_per_week  native_country  income  \n",
            "0          2174             0              40   United-States   <=50K  \n",
            "1             0             0              13   United-States   <=50K  \n",
            "2             0             0              40   United-States   <=50K  \n",
            "3             0             0              40   United-States   <=50K  \n",
            "4             0             0              40            Cuba   <=50K  \n"
          ]
        }
      ]
    },
    {
      "cell_type": "code",
      "source": [
        "print(data.info())"
      ],
      "metadata": {
        "colab": {
          "base_uri": "https://localhost:8080/"
        },
        "id": "xtJdxWtSU4j2",
        "outputId": "6d1ae9fd-9a46-4ab3-829e-9ccf8d664707"
      },
      "execution_count": 4,
      "outputs": [
        {
          "output_type": "stream",
          "name": "stdout",
          "text": [
            "<class 'pandas.core.frame.DataFrame'>\n",
            "RangeIndex: 32561 entries, 0 to 32560\n",
            "Data columns (total 15 columns):\n",
            " #   Column          Non-Null Count  Dtype \n",
            "---  ------          --------------  ----- \n",
            " 0   age             32561 non-null  int64 \n",
            " 1   workclass       30725 non-null  object\n",
            " 2   fnlwgt          32561 non-null  int64 \n",
            " 3   education       32561 non-null  object\n",
            " 4   education_num   32561 non-null  int64 \n",
            " 5   marital_status  32561 non-null  object\n",
            " 6   occupation      30718 non-null  object\n",
            " 7   relationship    32561 non-null  object\n",
            " 8   race            32561 non-null  object\n",
            " 9   sex             32561 non-null  object\n",
            " 10  capital_gain    32561 non-null  int64 \n",
            " 11  capital_loss    32561 non-null  int64 \n",
            " 12  hours_per_week  32561 non-null  int64 \n",
            " 13  native_country  31978 non-null  object\n",
            " 14  income          32561 non-null  object\n",
            "dtypes: int64(6), object(9)\n",
            "memory usage: 3.7+ MB\n",
            "None\n"
          ]
        }
      ]
    },
    {
      "cell_type": "code",
      "source": [
        "# Drop rows with missing values to clean the dataset\n",
        "data.dropna(inplace=True)"
      ],
      "metadata": {
        "id": "pS8juhC4U6yx"
      },
      "execution_count": 5,
      "outputs": []
    },
    {
      "cell_type": "code",
      "source": [
        "print(data.info())"
      ],
      "metadata": {
        "colab": {
          "base_uri": "https://localhost:8080/"
        },
        "id": "jKEAn1fxU9EK",
        "outputId": "4d82f708-d7f5-4a76-ec4f-fba93651be9a"
      },
      "execution_count": 6,
      "outputs": [
        {
          "output_type": "stream",
          "name": "stdout",
          "text": [
            "<class 'pandas.core.frame.DataFrame'>\n",
            "Index: 30162 entries, 0 to 32560\n",
            "Data columns (total 15 columns):\n",
            " #   Column          Non-Null Count  Dtype \n",
            "---  ------          --------------  ----- \n",
            " 0   age             30162 non-null  int64 \n",
            " 1   workclass       30162 non-null  object\n",
            " 2   fnlwgt          30162 non-null  int64 \n",
            " 3   education       30162 non-null  object\n",
            " 4   education_num   30162 non-null  int64 \n",
            " 5   marital_status  30162 non-null  object\n",
            " 6   occupation      30162 non-null  object\n",
            " 7   relationship    30162 non-null  object\n",
            " 8   race            30162 non-null  object\n",
            " 9   sex             30162 non-null  object\n",
            " 10  capital_gain    30162 non-null  int64 \n",
            " 11  capital_loss    30162 non-null  int64 \n",
            " 12  hours_per_week  30162 non-null  int64 \n",
            " 13  native_country  30162 non-null  object\n",
            " 14  income          30162 non-null  object\n",
            "dtypes: int64(6), object(9)\n",
            "memory usage: 3.7+ MB\n",
            "None\n"
          ]
        }
      ]
    },
    {
      "cell_type": "code",
      "source": [
        "# Calculate and display the normalized (proportional) distribution of 'race' and 'sex' in the dataset\n",
        "race_distribution = data['race'].value_counts(normalize=True)\n",
        "sex_distribution = data['sex'].value_counts(normalize=True)\n",
        "print(\"\\nRace distribution in the dataset (normalized):\")\n",
        "print(race_distribution)"
      ],
      "metadata": {
        "colab": {
          "base_uri": "https://localhost:8080/"
        },
        "id": "akhCDIY8U_AQ",
        "outputId": "621fea44-6d66-4349-de53-04e8ba580408"
      },
      "execution_count": 7,
      "outputs": [
        {
          "output_type": "stream",
          "name": "stdout",
          "text": [
            "\n",
            "Race distribution in the dataset (normalized):\n",
            "race\n",
            " White                 0.859790\n",
            " Black                 0.093396\n",
            " Asian-Pac-Islander    0.029673\n",
            " Amer-Indian-Eskimo    0.009482\n",
            " Other                 0.007659\n",
            "Name: proportion, dtype: float64\n"
          ]
        }
      ]
    },
    {
      "cell_type": "code",
      "source": [
        "print(\"\\nSex distribution in the dataset (normalized):\")\n",
        "print(sex_distribution)"
      ],
      "metadata": {
        "colab": {
          "base_uri": "https://localhost:8080/"
        },
        "id": "VOhG_lPDVBUJ",
        "outputId": "dc2665fb-13ca-47c1-d58d-82ef00e8c715"
      },
      "execution_count": 8,
      "outputs": [
        {
          "output_type": "stream",
          "name": "stdout",
          "text": [
            "\n",
            "Sex distribution in the dataset (normalized):\n",
            "sex\n",
            " Male      0.675685\n",
            " Female    0.324315\n",
            "Name: proportion, dtype: float64\n"
          ]
        }
      ]
    },
    {
      "cell_type": "code",
      "source": [
        "# Visualize the distribution of 'race' in the dataset using a count plot\n",
        "plt.figure(figsize=(10, 6))\n",
        "sns.countplot(y='race', data=data)\n",
        "plt.title('Race Distribution')\n",
        "plt.xlabel('Count')\n",
        "plt.ylabel('Race')\n",
        "plt.show()"
      ],
      "metadata": {
        "colab": {
          "base_uri": "https://localhost:8080/",
          "height": 564
        },
        "id": "O8z5-p_3VD4v",
        "outputId": "9b5c4339-6592-4113-e80b-7aee35e6c6d0"
      },
      "execution_count": 9,
      "outputs": [
        {
          "output_type": "display_data",
          "data": {
            "text/plain": [
              "<Figure size 1000x600 with 1 Axes>"
            ],
            "image/png": "[encoded data removed]"
          },
          "metadata": {}
        }
      ]
    },
    {
      "cell_type": "code",
      "source": [
        "# Visualize the distribution of 'sex' in the dataset using a count plot\n",
        "plt.figure(figsize=(6, 4))\n",
        "sns.countplot(x='sex', data=data)\n",
        "plt.title('Sex Distribution')\n",
        "plt.xlabel('Sex')\n",
        "plt.ylabel('Count')\n",
        "plt.show()"
      ],
      "metadata": {
        "colab": {
          "base_uri": "https://localhost:8080/",
          "height": 410
        },
        "id": "EZWHqDa3VFu5",
        "outputId": "96fb4e8b-2bf4-4f8a-a3e3-23642faa9855"
      },
      "execution_count": 10,
      "outputs": [
        {
          "output_type": "display_data",
          "data": {
            "text/plain": [
              "<Figure size 600x400 with 1 Axes>"
            ],
            "image/png": "[encoded data removed]"
          },
          "metadata": {}
        }
      ]
    },
    {
      "cell_type": "code",
      "source": [
        "# Expected distribution based on U.S. Census data\n",
        "expected_race_distribution = [0.601, 0.122, 0.056, 0.009, 0.212]  # White, Black, Asian (incl. Amer-Pac-Islander), Amer-Indian-Eskimo, Other races\n",
        "expected_sex_distribution = [0.492, 0.508]  # Male, Female"
      ],
      "metadata": {
        "id": "Ujhgi6cvVIcS"
      },
      "execution_count": 11,
      "outputs": []
    },
    {
      "cell_type": "code",
      "source": [
        "# Create contingency tables for chi-square tests\n",
        "# Observed counts of race categories in the dataset\n",
        "race_observed = data['race'].value_counts().values\n",
        "# Expected counts of race categories based on expected distribution\n",
        "race_expected = [val * len(data) for val in expected_race_distribution]"
      ],
      "metadata": {
        "id": "WHEnAdtOVMNZ"
      },
      "execution_count": 12,
      "outputs": []
    },
    {
      "cell_type": "code",
      "source": [
        "# Perform chi-square test to compare observed and expected race distributions\n",
        "chi2_race, p_race, dof_race, ex_race = chi2_contingency([race_observed, race_expected])\n",
        "print(\"\\nChi-Square Test for Race Distribution:\")\n",
        "print(f\"Chi2 statistic: {chi2_race:.2f}\")\n",
        "print(f\"P-value: {p_race:.4f}\")\n",
        "print(f\"Degrees of freedom: {dof_race}\")"
      ],
      "metadata": {
        "colab": {
          "base_uri": "https://localhost:8080/"
        },
        "id": "uusksNTWVOey",
        "outputId": "7b209cf8-5ad7-4335-849d-a83cc32a9f09"
      },
      "execution_count": 13,
      "outputs": [
        {
          "output_type": "stream",
          "name": "stdout",
          "text": [
            "\n",
            "Chi-Square Test for Race Distribution:\n",
            "Chi2 statistic: 7475.36\n",
            "P-value: 0.0000\n",
            "Degrees of freedom: 4\n"
          ]
        }
      ]
    },
    {
      "cell_type": "code",
      "source": [
        "# Observed counts of sex categories in the dataset\n",
        "sex_observed = data['sex'].value_counts().values\n",
        "# Expected counts of sex categories based on expected distribution\n",
        "sex_expected = [val * len(data) for val in expected_sex_distribution]"
      ],
      "metadata": {
        "id": "01J561PYVRCm"
      },
      "execution_count": 14,
      "outputs": []
    },
    {
      "cell_type": "code",
      "source": [
        "# Perform chi-square test to compare observed and expected sex distributions\n",
        "chi2_sex, p_sex, dof_sex, ex_sex = chi2_contingency([sex_observed, sex_expected])\n",
        "print(\"\\nChi-Square Test for Sex Distribution:\")\n",
        "print(f\"Chi2 statistic: {chi2_sex:.2f}\")\n",
        "print(f\"P-value: {p_sex:.4f}\")\n",
        "print(f\"Degrees of freedom: {dof_sex}\")"
      ],
      "metadata": {
        "colab": {
          "base_uri": "https://localhost:8080/"
        },
        "id": "fcKLE_p3VU7T",
        "outputId": "07829f2a-0aea-41a7-f0b4-c30225ea1e1c"
      },
      "execution_count": 15,
      "outputs": [
        {
          "output_type": "stream",
          "name": "stdout",
          "text": [
            "\n",
            "Chi-Square Test for Sex Distribution:\n",
            "Chi2 statistic: 2093.46\n",
            "P-value: 0.0000\n",
            "Degrees of freedom: 1\n"
          ]
        }
      ]
    },
    {
      "cell_type": "code",
      "source": [
        "# Interpretation of p-values\n",
        "alpha = 0.05  # Significance level\n",
        "if p_race < alpha:\n",
        "    print(\"\\nThe race distribution is significantly different from the expected distribution.\")\n",
        "else:\n",
        "    print(\"\\nThe race distribution is not significantly different from the expected distribution.\")\n",
        "\n",
        "if p_sex < alpha:\n",
        "    print(\"The sex distribution is significantly different from the expected distribution.\")\n",
        "else:\n",
        "    print(\"The sex distribution is not significantly different from the expected distribution.\")"
      ],
      "metadata": {
        "colab": {
          "base_uri": "https://localhost:8080/"
        },
        "id": "GOibw55iVZI0",
        "outputId": "2a88fda7-5b8b-4030-86dc-22f3cc7399fb"
      },
      "execution_count": 16,
      "outputs": [
        {
          "output_type": "stream",
          "name": "stdout",
          "text": [
            "\n",
            "The race distribution is significantly different from the expected distribution.\n",
            "The sex distribution is significantly different from the expected distribution.\n"
          ]
        }
      ]
    },
    {
      "cell_type": "markdown",
      "source": [
        "**MITIGATION (HYBRID)**"
      ],
      "metadata": {
        "id": "LEcb07xaWyHf"
      }
    },
    {
      "cell_type": "code",
      "source": [
        "!pip install fairlearn"
      ],
      "metadata": {
        "colab": {
          "base_uri": "https://localhost:8080/"
        },
        "id": "ogO5f4L2wn_I",
        "outputId": "93a44434-bac3-4373-f3c3-9413c99b32dc"
      },
      "execution_count": 18,
      "outputs": [
        {
          "output_type": "stream",
          "name": "stdout",
          "text": [
            "Collecting fairlearn\n",
            "  Downloading fairlearn-0.10.0-py3-none-any.whl (234 kB)\n",
            "\u001b[2K     \u001b[90m━━━━━━━━━━━━━━━━━━━━━━━━━━━━━━━━━━━━━━━━\u001b[0m \u001b[32m234.1/234.1 kB\u001b[0m \u001b[31m4.1 MB/s\u001b[0m eta \u001b[36m0:00:00\u001b[0m\n",
            "\u001b[?25hRequirement already satisfied: numpy>=1.24.4 in /usr/local/lib/python3.10/dist-packages (from fairlearn) (1.25.2)\n",
            "Requirement already satisfied: pandas>=2.0.3 in /usr/local/lib/python3.10/dist-packages (from fairlearn) (2.0.3)\n",
            "Requirement already satisfied: scikit-learn>=1.2.1 in /usr/local/lib/python3.10/dist-packages (from fairlearn) (1.2.2)\n",
            "Requirement already satisfied: scipy>=1.9.3 in /usr/local/lib/python3.10/dist-packages (from fairlearn) (1.11.4)\n",
            "Requirement already satisfied: python-dateutil>=2.8.2 in /usr/local/lib/python3.10/dist-packages (from pandas>=2.0.3->fairlearn) (2.8.2)\n",
            "Requirement already satisfied: pytz>=2020.1 in /usr/local/lib/python3.10/dist-packages (from pandas>=2.0.3->fairlearn) (2023.4)\n",
            "Requirement already satisfied: tzdata>=2022.1 in /usr/local/lib/python3.10/dist-packages (from pandas>=2.0.3->fairlearn) (2024.1)\n",
            "Requirement already satisfied: joblib>=1.1.1 in /usr/local/lib/python3.10/dist-packages (from scikit-learn>=1.2.1->fairlearn) (1.4.2)\n",
            "Requirement already satisfied: threadpoolctl>=2.0.0 in /usr/local/lib/python3.10/dist-packages (from scikit-learn>=1.2.1->fairlearn) (3.5.0)\n",
            "Requirement already satisfied: six>=1.5 in /usr/local/lib/python3.10/dist-packages (from python-dateutil>=2.8.2->pandas>=2.0.3->fairlearn) (1.16.0)\n",
            "Installing collected packages: fairlearn\n",
            "Successfully installed fairlearn-0.10.0\n"
          ]
        }
      ]
    },
    {
      "cell_type": "code",
      "source": [
        "import numpy as np\n",
        "from sklearn.model_selection import train_test_split\n",
        "from sklearn.preprocessing import StandardScaler\n",
        "from sklearn.metrics import accuracy_score\n",
        "import tensorflow as tf\n",
        "from tensorflow.keras import layers, models\n",
        "from fairlearn.metrics import demographic_parity_difference\n",
        "import matplotlib.pyplot as plt"
      ],
      "metadata": {
        "id": "54hLq_JDVcCl"
      },
      "execution_count": 19,
      "outputs": []
    },
    {
      "cell_type": "code",
      "source": [
        "# Convert categorical variables to numerical using one-hot encoding\n",
        "data = pd.get_dummies(data, drop_first=True)"
      ],
      "metadata": {
        "id": "UWLgvLgTwm0H"
      },
      "execution_count": 20,
      "outputs": []
    },
    {
      "cell_type": "code",
      "source": [
        "# Feature matrix and target vector\n",
        "X = data.drop(\"income_ >50K\", axis=1)\n",
        "y = data[\"income_ >50K\"]"
      ],
      "metadata": {
        "id": "TGuTuIO_xJMb"
      },
      "execution_count": 22,
      "outputs": []
    },
    {
      "cell_type": "code",
      "source": [
        "# Split the data into training and testing sets\n",
        "X_train, X_test, y_train, y_test = train_test_split(X, y, test_size=0.2, random_state=42, stratify=y)"
      ],
      "metadata": {
        "id": "Kv2GBC_jxLIa"
      },
      "execution_count": 23,
      "outputs": []
    },
    {
      "cell_type": "code",
      "source": [
        "# Standardize the feature matrix\n",
        "scaler = StandardScaler()\n",
        "X_train = scaler.fit_transform(X_train)\n",
        "X_test = scaler.transform(X_test)"
      ],
      "metadata": {
        "id": "vad1-YELxPRT"
      },
      "execution_count": 24,
      "outputs": []
    },
    {
      "cell_type": "code",
      "source": [
        "def create_predictive_model(input_dim):\n",
        "    # Predictive model\n",
        "    predictor = models.Sequential([\n",
        "        layers.Dense(32, activation='relu', input_dim=input_dim),\n",
        "        layers.Dense(16, activation='relu'),\n",
        "        layers.Dense(1, activation='sigmoid')\n",
        "    ])\n",
        "\n",
        "    # Compile model\n",
        "    predictor.compile(optimizer='adam', loss='binary_crossentropy', metrics=['accuracy'])\n",
        "\n",
        "    return predictor\n",
        "\n",
        "def create_adversarial_model(input_dim):\n",
        "    # Adversarial model\n",
        "    adversary = models.Sequential([\n",
        "        layers.Dense(32, activation='relu', input_dim=input_dim),\n",
        "        layers.Dense(16, activation='relu'),\n",
        "        layers.Dense(1, activation='sigmoid')\n",
        "    ])\n",
        "\n",
        "    # Compile model\n",
        "    adversary.compile(optimizer='adam', loss='binary_crossentropy', metrics=['accuracy'])\n",
        "\n",
        "    return adversary"
      ],
      "metadata": {
        "id": "0lgms38xxRfD"
      },
      "execution_count": 34,
      "outputs": []
    },
    {
      "cell_type": "code",
      "source": [
        "input_dim = X_train.shape[1]\n",
        "predictor = create_predictive_model(input_dim)\n",
        "adversaries = {feature: create_adversarial_model(input_dim) for feature in ['sex_ Male', 'race_ White', 'race_ Black', 'race_ Asian-Pac-Islander', 'race_ Other']}\n",
        "\n",
        "# Train the predictive model\n",
        "predictor.fit(X_train, y_train, epochs=50, batch_size=32, verbose=1)"
      ],
      "metadata": {
        "colab": {
          "base_uri": "https://localhost:8080/"
        },
        "id": "752p6lQKxyYB",
        "outputId": "19de28c4-366e-4aa4-b81b-d5e356758b69"
      },
      "execution_count": 35,
      "outputs": [
        {
          "output_type": "stream",
          "name": "stdout",
          "text": [
            "Epoch 1/50\n",
            "755/755 [==============================] - 3s 2ms/step - loss: 0.3799 - accuracy: 0.8177\n",
            "Epoch 2/50\n",
            "755/755 [==============================] - 1s 2ms/step - loss: 0.3258 - accuracy: 0.8481\n",
            "Epoch 3/50\n",
            "755/755 [==============================] - 1s 2ms/step - loss: 0.3177 - accuracy: 0.8513\n",
            "Epoch 4/50\n",
            "755/755 [==============================] - 1s 2ms/step - loss: 0.3125 - accuracy: 0.8525\n",
            "Epoch 5/50\n",
            "755/755 [==============================] - 2s 3ms/step - loss: 0.3089 - accuracy: 0.8538\n",
            "Epoch 6/50\n",
            "755/755 [==============================] - 2s 3ms/step - loss: 0.3055 - accuracy: 0.8565\n",
            "Epoch 7/50\n",
            "755/755 [==============================] - 1s 2ms/step - loss: 0.3041 - accuracy: 0.8588\n",
            "Epoch 8/50\n",
            "755/755 [==============================] - 1s 2ms/step - loss: 0.3013 - accuracy: 0.8600\n",
            "Epoch 9/50\n",
            "755/755 [==============================] - 1s 2ms/step - loss: 0.2994 - accuracy: 0.8586\n",
            "Epoch 10/50\n",
            "755/755 [==============================] - 1s 2ms/step - loss: 0.2974 - accuracy: 0.8625\n",
            "Epoch 11/50\n",
            "755/755 [==============================] - 1s 2ms/step - loss: 0.2956 - accuracy: 0.8622\n",
            "Epoch 12/50\n",
            "755/755 [==============================] - 1s 2ms/step - loss: 0.2941 - accuracy: 0.8624\n",
            "Epoch 13/50\n",
            "755/755 [==============================] - 2s 2ms/step - loss: 0.2926 - accuracy: 0.8643\n",
            "Epoch 14/50\n",
            "755/755 [==============================] - 2s 3ms/step - loss: 0.2902 - accuracy: 0.8666\n",
            "Epoch 15/50\n",
            "755/755 [==============================] - 1s 2ms/step - loss: 0.2886 - accuracy: 0.8658\n",
            "Epoch 16/50\n",
            "755/755 [==============================] - 1s 2ms/step - loss: 0.2878 - accuracy: 0.8663\n",
            "Epoch 17/50\n",
            "755/755 [==============================] - 1s 2ms/step - loss: 0.2853 - accuracy: 0.8675\n",
            "Epoch 18/50\n",
            "755/755 [==============================] - 1s 2ms/step - loss: 0.2848 - accuracy: 0.8687\n",
            "Epoch 19/50\n",
            "755/755 [==============================] - 1s 2ms/step - loss: 0.2829 - accuracy: 0.8691\n",
            "Epoch 20/50\n",
            "755/755 [==============================] - 1s 2ms/step - loss: 0.2818 - accuracy: 0.8725\n",
            "Epoch 21/50\n",
            "755/755 [==============================] - 1s 2ms/step - loss: 0.2808 - accuracy: 0.8714\n",
            "Epoch 22/50\n",
            "755/755 [==============================] - 2s 3ms/step - loss: 0.2797 - accuracy: 0.8712\n",
            "Epoch 23/50\n",
            "755/755 [==============================] - 2s 3ms/step - loss: 0.2777 - accuracy: 0.8716\n",
            "Epoch 24/50\n",
            "755/755 [==============================] - 1s 2ms/step - loss: 0.2766 - accuracy: 0.8728\n",
            "Epoch 25/50\n",
            "755/755 [==============================] - 1s 2ms/step - loss: 0.2759 - accuracy: 0.8720\n",
            "Epoch 26/50\n",
            "755/755 [==============================] - 1s 2ms/step - loss: 0.2744 - accuracy: 0.8739\n",
            "Epoch 27/50\n",
            "755/755 [==============================] - 2s 2ms/step - loss: 0.2741 - accuracy: 0.8737\n",
            "Epoch 28/50\n",
            "755/755 [==============================] - 3s 4ms/step - loss: 0.2729 - accuracy: 0.8741\n",
            "Epoch 29/50\n",
            "755/755 [==============================] - 2s 3ms/step - loss: 0.2713 - accuracy: 0.8755\n",
            "Epoch 30/50\n",
            "755/755 [==============================] - 2s 3ms/step - loss: 0.2702 - accuracy: 0.8753\n",
            "Epoch 31/50\n",
            "755/755 [==============================] - 3s 3ms/step - loss: 0.2698 - accuracy: 0.8769\n",
            "Epoch 32/50\n",
            "755/755 [==============================] - 2s 2ms/step - loss: 0.2684 - accuracy: 0.8775\n",
            "Epoch 33/50\n",
            "755/755 [==============================] - 1s 2ms/step - loss: 0.2674 - accuracy: 0.8772\n",
            "Epoch 34/50\n",
            "755/755 [==============================] - 1s 2ms/step - loss: 0.2667 - accuracy: 0.8763\n",
            "Epoch 35/50\n",
            "755/755 [==============================] - 1s 2ms/step - loss: 0.2656 - accuracy: 0.8786\n",
            "Epoch 36/50\n",
            "755/755 [==============================] - 2s 2ms/step - loss: 0.2647 - accuracy: 0.8787\n",
            "Epoch 37/50\n",
            "755/755 [==============================] - 2s 3ms/step - loss: 0.2637 - accuracy: 0.8785\n",
            "Epoch 38/50\n",
            "755/755 [==============================] - 1s 2ms/step - loss: 0.2627 - accuracy: 0.8794\n",
            "Epoch 39/50\n",
            "755/755 [==============================] - 1s 2ms/step - loss: 0.2614 - accuracy: 0.8792\n",
            "Epoch 40/50\n",
            "755/755 [==============================] - 1s 2ms/step - loss: 0.2611 - accuracy: 0.8783\n",
            "Epoch 41/50\n",
            "755/755 [==============================] - 1s 2ms/step - loss: 0.2610 - accuracy: 0.8798\n",
            "Epoch 42/50\n",
            "755/755 [==============================] - 1s 2ms/step - loss: 0.2595 - accuracy: 0.8817\n",
            "Epoch 43/50\n",
            "755/755 [==============================] - 1s 2ms/step - loss: 0.2597 - accuracy: 0.8794\n",
            "Epoch 44/50\n",
            "755/755 [==============================] - 2s 3ms/step - loss: 0.2578 - accuracy: 0.8818\n",
            "Epoch 45/50\n",
            "755/755 [==============================] - 4s 5ms/step - loss: 0.2562 - accuracy: 0.8831\n",
            "Epoch 46/50\n",
            "755/755 [==============================] - 2s 3ms/step - loss: 0.2564 - accuracy: 0.8833\n",
            "Epoch 47/50\n",
            "755/755 [==============================] - 2s 2ms/step - loss: 0.2562 - accuracy: 0.8818\n",
            "Epoch 48/50\n",
            "755/755 [==============================] - 2s 3ms/step - loss: 0.2558 - accuracy: 0.8829\n",
            "Epoch 49/50\n",
            "755/755 [==============================] - 1s 2ms/step - loss: 0.2546 - accuracy: 0.8824\n",
            "Epoch 50/50\n",
            "755/755 [==============================] - 1s 2ms/step - loss: 0.2548 - accuracy: 0.8822\n"
          ]
        },
        {
          "output_type": "execute_result",
          "data": {
            "text/plain": [
              "<keras.src.callbacks.History at 0x7d9e3519d3f0>"
            ]
          },
          "metadata": {},
          "execution_count": 35
        }
      ]
    },
    {
      "cell_type": "code",
      "source": [
        "# Train the adversarial models\n",
        "for feature in adversaries:\n",
        "    adversaries[feature].fit(X_train, X_train[:, list(data.columns).index(feature)], epochs=50, batch_size=32, verbose=1)"
      ],
      "metadata": {
        "colab": {
          "base_uri": "https://localhost:8080/"
        },
        "id": "PwULSi_8x5SV",
        "outputId": "535c6fe7-7436-412a-dddb-6a9e4da9468a"
      },
      "execution_count": 36,
      "outputs": [
        {
          "output_type": "stream",
          "name": "stdout",
          "text": [
            "Epoch 1/50\n",
            "755/755 [==============================] - 2s 2ms/step - loss: -63.2815 - accuracy: 0.0000e+00\n",
            "Epoch 2/50\n",
            "755/755 [==============================] - 1s 2ms/step - loss: -1318.1305 - accuracy: 0.0000e+00\n",
            "Epoch 3/50\n",
            "755/755 [==============================] - 1s 2ms/step - loss: -6086.4434 - accuracy: 0.0000e+00\n",
            "Epoch 4/50\n",
            "755/755 [==============================] - 1s 2ms/step - loss: -15421.8223 - accuracy: 0.0000e+00\n",
            "Epoch 5/50\n",
            "755/755 [==============================] - 1s 2ms/step - loss: -29857.2949 - accuracy: 0.0000e+00\n",
            "Epoch 6/50\n",
            "755/755 [==============================] - 2s 3ms/step - loss: -49825.3047 - accuracy: 0.0000e+00\n",
            "Epoch 7/50\n",
            "755/755 [==============================] - 2s 3ms/step - loss: -75702.6172 - accuracy: 0.0000e+00\n",
            "Epoch 8/50\n",
            "755/755 [==============================] - 1s 2ms/step - loss: -108916.8828 - accuracy: 0.0000e+00\n",
            "Epoch 9/50\n",
            "755/755 [==============================] - 1s 2ms/step - loss: -151829.6250 - accuracy: 0.0000e+00\n",
            "Epoch 10/50\n",
            "755/755 [==============================] - 1s 2ms/step - loss: -203819.3750 - accuracy: 0.0000e+00\n",
            "Epoch 11/50\n",
            "755/755 [==============================] - 1s 2ms/step - loss: -265439.0000 - accuracy: 0.0000e+00\n",
            "Epoch 12/50\n",
            "755/755 [==============================] - 1s 2ms/step - loss: -337120.9375 - accuracy: 0.0000e+00\n",
            "Epoch 13/50\n",
            "755/755 [==============================] - 1s 2ms/step - loss: -419506.2188 - accuracy: 0.0000e+00\n",
            "Epoch 14/50\n",
            "755/755 [==============================] - 2s 2ms/step - loss: -513126.4375 - accuracy: 0.0000e+00\n",
            "Epoch 15/50\n",
            "755/755 [==============================] - 2s 3ms/step - loss: -619081.0000 - accuracy: 0.0000e+00\n",
            "Epoch 16/50\n",
            "755/755 [==============================] - 2s 2ms/step - loss: -737844.4375 - accuracy: 0.0000e+00\n",
            "Epoch 17/50\n",
            "755/755 [==============================] - 1s 2ms/step - loss: -869456.4375 - accuracy: 0.0000e+00\n",
            "Epoch 18/50\n",
            "755/755 [==============================] - 1s 2ms/step - loss: -1014700.6875 - accuracy: 0.0000e+00\n",
            "Epoch 19/50\n",
            "755/755 [==============================] - 1s 2ms/step - loss: -1175072.8750 - accuracy: 0.0000e+00\n",
            "Epoch 20/50\n",
            "755/755 [==============================] - 1s 2ms/step - loss: -1350801.6250 - accuracy: 0.0000e+00\n",
            "Epoch 21/50\n",
            "755/755 [==============================] - 1s 2ms/step - loss: -1542755.7500 - accuracy: 0.0000e+00\n",
            "Epoch 22/50\n",
            "755/755 [==============================] - 1s 2ms/step - loss: -1750826.5000 - accuracy: 0.0000e+00\n",
            "Epoch 23/50\n",
            "755/755 [==============================] - 2s 2ms/step - loss: -1973991.7500 - accuracy: 0.0000e+00\n",
            "Epoch 24/50\n",
            "755/755 [==============================] - 2s 3ms/step - loss: -2214839.0000 - accuracy: 0.0000e+00\n",
            "Epoch 25/50\n",
            "755/755 [==============================] - 1s 2ms/step - loss: -2472851.2500 - accuracy: 0.0000e+00\n",
            "Epoch 26/50\n",
            "755/755 [==============================] - 1s 2ms/step - loss: -2750401.5000 - accuracy: 0.0000e+00\n",
            "Epoch 27/50\n",
            "755/755 [==============================] - 1s 2ms/step - loss: -3046677.7500 - accuracy: 0.0000e+00\n",
            "Epoch 28/50\n",
            "755/755 [==============================] - 2s 2ms/step - loss: -3362991.0000 - accuracy: 0.0000e+00\n",
            "Epoch 29/50\n",
            "755/755 [==============================] - 1s 2ms/step - loss: -3700642.0000 - accuracy: 0.0000e+00\n",
            "Epoch 30/50\n",
            "755/755 [==============================] - 1s 2ms/step - loss: -4059380.2500 - accuracy: 0.0000e+00\n",
            "Epoch 31/50\n",
            "755/755 [==============================] - 1s 2ms/step - loss: -4439862.5000 - accuracy: 0.0000e+00\n",
            "Epoch 32/50\n",
            "755/755 [==============================] - 2s 3ms/step - loss: -4838860.0000 - accuracy: 0.0000e+00\n",
            "Epoch 33/50\n",
            "755/755 [==============================] - 2s 2ms/step - loss: -5262550.0000 - accuracy: 0.0000e+00\n",
            "Epoch 34/50\n",
            "755/755 [==============================] - 1s 2ms/step - loss: -5711006.0000 - accuracy: 0.0000e+00\n",
            "Epoch 35/50\n",
            "755/755 [==============================] - 1s 2ms/step - loss: -6183103.0000 - accuracy: 0.0000e+00\n",
            "Epoch 36/50\n",
            "755/755 [==============================] - 1s 2ms/step - loss: -6676860.5000 - accuracy: 0.0000e+00\n",
            "Epoch 37/50\n",
            "755/755 [==============================] - 1s 2ms/step - loss: -7200531.5000 - accuracy: 0.0000e+00\n",
            "Epoch 38/50\n",
            "755/755 [==============================] - 1s 2ms/step - loss: -7747220.0000 - accuracy: 0.0000e+00\n",
            "Epoch 39/50\n",
            "755/755 [==============================] - 1s 2ms/step - loss: -8318395.0000 - accuracy: 0.0000e+00\n",
            "Epoch 40/50\n",
            "755/755 [==============================] - 2s 2ms/step - loss: -8916867.0000 - accuracy: 0.0000e+00\n",
            "Epoch 41/50\n",
            "755/755 [==============================] - 2s 3ms/step - loss: -9545303.0000 - accuracy: 0.0000e+00\n",
            "Epoch 42/50\n",
            "755/755 [==============================] - 1s 2ms/step - loss: -10199152.0000 - accuracy: 0.0000e+00\n",
            "Epoch 43/50\n",
            "755/755 [==============================] - 1s 2ms/step - loss: -10879841.0000 - accuracy: 0.0000e+00\n",
            "Epoch 44/50\n",
            "755/755 [==============================] - 1s 2ms/step - loss: -11592759.0000 - accuracy: 0.0000e+00\n",
            "Epoch 45/50\n",
            "755/755 [==============================] - 1s 2ms/step - loss: -12336190.0000 - accuracy: 0.0000e+00\n",
            "Epoch 46/50\n",
            "755/755 [==============================] - 1s 2ms/step - loss: -13106964.0000 - accuracy: 0.0000e+00\n",
            "Epoch 47/50\n",
            "755/755 [==============================] - 1s 2ms/step - loss: -13906312.0000 - accuracy: 0.0000e+00\n",
            "Epoch 48/50\n",
            "755/755 [==============================] - 1s 2ms/step - loss: -14739441.0000 - accuracy: 0.0000e+00\n",
            "Epoch 49/50\n",
            "755/755 [==============================] - 2s 3ms/step - loss: -15607240.0000 - accuracy: 0.0000e+00\n",
            "Epoch 50/50\n",
            "755/755 [==============================] - 2s 2ms/step - loss: -16507788.0000 - accuracy: 0.0000e+00\n",
            "Epoch 1/50\n",
            "755/755 [==============================] - 2s 2ms/step - loss: -338.8477 - accuracy: 0.0000e+00\n",
            "Epoch 2/50\n",
            "755/755 [==============================] - 1s 2ms/step - loss: -5536.5615 - accuracy: 0.0000e+00\n",
            "Epoch 3/50\n",
            "755/755 [==============================] - 1s 2ms/step - loss: -22002.3867 - accuracy: 0.0000e+00\n",
            "Epoch 4/50\n",
            "755/755 [==============================] - 2s 3ms/step - loss: -52878.5195 - accuracy: 0.0000e+00\n",
            "Epoch 5/50\n",
            "755/755 [==============================] - 2s 3ms/step - loss: -99908.0859 - accuracy: 0.0000e+00\n",
            "Epoch 6/50\n",
            "755/755 [==============================] - 1s 2ms/step - loss: -164951.2500 - accuracy: 0.0000e+00\n",
            "Epoch 7/50\n",
            "755/755 [==============================] - 1s 2ms/step - loss: -248869.1719 - accuracy: 0.0000e+00\n",
            "Epoch 8/50\n",
            "755/755 [==============================] - 1s 2ms/step - loss: -352665.3438 - accuracy: 0.0000e+00\n",
            "Epoch 9/50\n",
            "755/755 [==============================] - 2s 3ms/step - loss: -479308.5938 - accuracy: 0.0000e+00\n",
            "Epoch 10/50\n",
            "755/755 [==============================] - 2s 2ms/step - loss: -628506.9375 - accuracy: 0.0000e+00\n",
            "Epoch 11/50\n",
            "755/755 [==============================] - 2s 2ms/step - loss: -801731.8750 - accuracy: 0.0000e+00\n",
            "Epoch 12/50\n",
            "755/755 [==============================] - 2s 3ms/step - loss: -999431.5625 - accuracy: 0.0000e+00\n",
            "Epoch 13/50\n",
            "755/755 [==============================] - 2s 3ms/step - loss: -1219497.2500 - accuracy: 0.0000e+00\n",
            "Epoch 14/50\n",
            "755/755 [==============================] - 1s 2ms/step - loss: -1471502.5000 - accuracy: 0.0000e+00\n",
            "Epoch 15/50\n",
            "755/755 [==============================] - 1s 2ms/step - loss: -1755929.0000 - accuracy: 0.0000e+00\n",
            "Epoch 16/50\n",
            "755/755 [==============================] - 1s 2ms/step - loss: -2073443.7500 - accuracy: 0.0000e+00\n",
            "Epoch 17/50\n",
            "755/755 [==============================] - 1s 2ms/step - loss: -2424759.2500 - accuracy: 0.0000e+00\n",
            "Epoch 18/50\n",
            "755/755 [==============================] - 1s 2ms/step - loss: -2811865.2500 - accuracy: 0.0000e+00\n",
            "Epoch 19/50\n",
            "755/755 [==============================] - 1s 2ms/step - loss: -3233486.7500 - accuracy: 0.0000e+00\n",
            "Epoch 20/50\n",
            "755/755 [==============================] - 2s 2ms/step - loss: -3694033.5000 - accuracy: 0.0000e+00\n",
            "Epoch 21/50\n",
            "755/755 [==============================] - 2s 3ms/step - loss: -4193536.7500 - accuracy: 0.0000e+00\n",
            "Epoch 22/50\n",
            "755/755 [==============================] - 2s 2ms/step - loss: -4732648.5000 - accuracy: 0.0000e+00\n",
            "Epoch 23/50\n",
            "755/755 [==============================] - 1s 2ms/step - loss: -5314255.5000 - accuracy: 0.0000e+00\n",
            "Epoch 24/50\n",
            "755/755 [==============================] - 1s 2ms/step - loss: -5939412.0000 - accuracy: 0.0000e+00\n",
            "Epoch 25/50\n",
            "755/755 [==============================] - 1s 2ms/step - loss: -6608057.0000 - accuracy: 0.0000e+00\n",
            "Epoch 26/50\n",
            "755/755 [==============================] - 1s 2ms/step - loss: -7324414.0000 - accuracy: 0.0000e+00\n",
            "Epoch 27/50\n",
            "755/755 [==============================] - 1s 2ms/step - loss: -8088704.0000 - accuracy: 0.0000e+00\n",
            "Epoch 28/50\n",
            "755/755 [==============================] - 1s 2ms/step - loss: -8898502.0000 - accuracy: 0.0000e+00\n",
            "Epoch 29/50\n",
            "755/755 [==============================] - 2s 3ms/step - loss: -9761476.0000 - accuracy: 0.0000e+00\n",
            "Epoch 30/50\n",
            "755/755 [==============================] - 2s 3ms/step - loss: -10677446.0000 - accuracy: 0.0000e+00\n",
            "Epoch 31/50\n",
            "755/755 [==============================] - 1s 2ms/step - loss: -11643693.0000 - accuracy: 0.0000e+00\n",
            "Epoch 32/50\n",
            "755/755 [==============================] - 1s 2ms/step - loss: -12665812.0000 - accuracy: 0.0000e+00\n",
            "Epoch 33/50\n",
            "755/755 [==============================] - 1s 2ms/step - loss: -13748153.0000 - accuracy: 0.0000e+00\n",
            "Epoch 34/50\n",
            "755/755 [==============================] - 1s 2ms/step - loss: -14885141.0000 - accuracy: 0.0000e+00\n",
            "Epoch 35/50\n",
            "755/755 [==============================] - 1s 2ms/step - loss: -16077803.0000 - accuracy: 0.0000e+00\n",
            "Epoch 36/50\n",
            "755/755 [==============================] - 1s 2ms/step - loss: -17314298.0000 - accuracy: 0.0000e+00\n",
            "Epoch 37/50\n",
            "755/755 [==============================] - 1s 2ms/step - loss: -18615242.0000 - accuracy: 0.0000e+00\n",
            "Epoch 38/50\n",
            "755/755 [==============================] - 2s 3ms/step - loss: -19980290.0000 - accuracy: 0.0000e+00\n",
            "Epoch 39/50\n",
            "755/755 [==============================] - 2s 3ms/step - loss: -21420878.0000 - accuracy: 0.0000e+00\n",
            "Epoch 40/50\n",
            "755/755 [==============================] - 1s 2ms/step - loss: -22928878.0000 - accuracy: 0.0000e+00\n",
            "Epoch 41/50\n",
            "755/755 [==============================] - 1s 2ms/step - loss: -24501310.0000 - accuracy: 0.0000e+00\n",
            "Epoch 42/50\n",
            "755/755 [==============================] - 1s 2ms/step - loss: -26146050.0000 - accuracy: 0.0000e+00\n",
            "Epoch 43/50\n",
            "755/755 [==============================] - 1s 2ms/step - loss: -27857580.0000 - accuracy: 0.0000e+00\n",
            "Epoch 44/50\n",
            "755/755 [==============================] - 1s 2ms/step - loss: -29625866.0000 - accuracy: 0.0000e+00\n",
            "Epoch 45/50\n",
            "755/755 [==============================] - 1s 2ms/step - loss: -31452302.0000 - accuracy: 0.0000e+00\n",
            "Epoch 46/50\n",
            "755/755 [==============================] - 2s 3ms/step - loss: -33364030.0000 - accuracy: 0.0000e+00\n",
            "Epoch 47/50\n",
            "755/755 [==============================] - 2s 3ms/step - loss: -35351524.0000 - accuracy: 0.0000e+00\n",
            "Epoch 48/50\n",
            "755/755 [==============================] - 1s 2ms/step - loss: -37420368.0000 - accuracy: 0.0000e+00\n",
            "Epoch 49/50\n",
            "755/755 [==============================] - 2s 2ms/step - loss: -39575340.0000 - accuracy: 0.0000e+00\n",
            "Epoch 50/50\n",
            "755/755 [==============================] - 1s 2ms/step - loss: -41806236.0000 - accuracy: 0.0000e+00\n",
            "Epoch 1/50\n",
            "755/755 [==============================] - 2s 2ms/step - loss: -177.7972 - accuracy: 0.0000e+00\n",
            "Epoch 2/50\n",
            "755/755 [==============================] - 1s 2ms/step - loss: -2872.8640 - accuracy: 0.0000e+00\n",
            "Epoch 3/50\n",
            "755/755 [==============================] - 2s 3ms/step - loss: -11493.1943 - accuracy: 0.0000e+00\n",
            "Epoch 4/50\n",
            "755/755 [==============================] - 2s 3ms/step - loss: -27612.5977 - accuracy: 0.0000e+00\n",
            "Epoch 5/50\n",
            "755/755 [==============================] - 1s 2ms/step - loss: -52399.7266 - accuracy: 0.0000e+00\n",
            "Epoch 6/50\n",
            "755/755 [==============================] - 1s 2ms/step - loss: -87074.7656 - accuracy: 0.0000e+00\n",
            "Epoch 7/50\n",
            "755/755 [==============================] - 1s 2ms/step - loss: -132247.7031 - accuracy: 0.0000e+00\n",
            "Epoch 8/50\n",
            "755/755 [==============================] - 1s 2ms/step - loss: -188055.5625 - accuracy: 0.0000e+00\n",
            "Epoch 9/50\n",
            "755/755 [==============================] - 1s 2ms/step - loss: -255329.8125 - accuracy: 0.0000e+00\n",
            "Epoch 10/50\n",
            "755/755 [==============================] - 1s 2ms/step - loss: -335605.2188 - accuracy: 0.0000e+00\n",
            "Epoch 11/50\n",
            "755/755 [==============================] - 2s 2ms/step - loss: -429650.5312 - accuracy: 0.0000e+00\n",
            "Epoch 12/50\n",
            "755/755 [==============================] - 2s 3ms/step - loss: -537559.6250 - accuracy: 0.0000e+00\n",
            "Epoch 13/50\n",
            "755/755 [==============================] - 1s 2ms/step - loss: -659419.5625 - accuracy: 0.0000e+00\n",
            "Epoch 14/50\n",
            "755/755 [==============================] - 1s 2ms/step - loss: -797369.1250 - accuracy: 0.0000e+00\n",
            "Epoch 15/50\n",
            "755/755 [==============================] - 1s 2ms/step - loss: -952734.1875 - accuracy: 0.0000e+00\n",
            "Epoch 16/50\n",
            "755/755 [==============================] - 1s 2ms/step - loss: -1126146.7500 - accuracy: 0.0000e+00\n",
            "Epoch 17/50\n",
            "755/755 [==============================] - 1s 2ms/step - loss: -1317981.1250 - accuracy: 0.0000e+00\n",
            "Epoch 18/50\n",
            "755/755 [==============================] - 1s 2ms/step - loss: -1528413.8750 - accuracy: 0.0000e+00\n",
            "Epoch 19/50\n",
            "755/755 [==============================] - 2s 2ms/step - loss: -1757638.7500 - accuracy: 0.0000e+00\n",
            "Epoch 20/50\n",
            "755/755 [==============================] - 2s 3ms/step - loss: -2006316.1250 - accuracy: 0.0000e+00\n",
            "Epoch 21/50\n",
            "755/755 [==============================] - 2s 2ms/step - loss: -2277818.0000 - accuracy: 0.0000e+00\n",
            "Epoch 22/50\n",
            "755/755 [==============================] - 1s 2ms/step - loss: -2571640.5000 - accuracy: 0.0000e+00\n",
            "Epoch 23/50\n",
            "755/755 [==============================] - 1s 2ms/step - loss: -2888920.0000 - accuracy: 0.0000e+00\n",
            "Epoch 24/50\n",
            "755/755 [==============================] - 2s 3ms/step - loss: -3229803.5000 - accuracy: 0.0000e+00\n",
            "Epoch 25/50\n",
            "755/755 [==============================] - 1s 2ms/step - loss: -3596145.5000 - accuracy: 0.0000e+00\n",
            "Epoch 26/50\n",
            "755/755 [==============================] - 1s 2ms/step - loss: -3988532.2500 - accuracy: 0.0000e+00\n",
            "Epoch 27/50\n",
            "755/755 [==============================] - 1s 2ms/step - loss: -4406868.5000 - accuracy: 0.0000e+00\n",
            "Epoch 28/50\n",
            "755/755 [==============================] - 2s 3ms/step - loss: -4850123.0000 - accuracy: 0.0000e+00\n",
            "Epoch 29/50\n",
            "755/755 [==============================] - 2s 3ms/step - loss: -5319247.5000 - accuracy: 0.0000e+00\n",
            "Epoch 30/50\n",
            "755/755 [==============================] - 1s 2ms/step - loss: -5819229.0000 - accuracy: 0.0000e+00\n",
            "Epoch 31/50\n",
            "755/755 [==============================] - 1s 2ms/step - loss: -6348707.5000 - accuracy: 0.0000e+00\n",
            "Epoch 32/50\n",
            "755/755 [==============================] - 1s 2ms/step - loss: -6907399.0000 - accuracy: 0.0000e+00\n",
            "Epoch 33/50\n",
            "755/755 [==============================] - 1s 2ms/step - loss: -7498068.0000 - accuracy: 0.0000e+00\n",
            "Epoch 34/50\n",
            "755/755 [==============================] - 1s 2ms/step - loss: -8120729.5000 - accuracy: 0.0000e+00\n",
            "Epoch 35/50\n",
            "755/755 [==============================] - 1s 2ms/step - loss: -8775437.0000 - accuracy: 0.0000e+00\n",
            "Epoch 36/50\n",
            "755/755 [==============================] - 2s 3ms/step - loss: -9464293.0000 - accuracy: 0.0000e+00\n",
            "Epoch 37/50\n",
            "755/755 [==============================] - 2s 3ms/step - loss: -10185906.0000 - accuracy: 0.0000e+00\n",
            "Epoch 38/50\n",
            "755/755 [==============================] - 1s 2ms/step - loss: -10940566.0000 - accuracy: 0.0000e+00\n",
            "Epoch 39/50\n",
            "755/755 [==============================] - 1s 2ms/step - loss: -11726989.0000 - accuracy: 0.0000e+00\n",
            "Epoch 40/50\n",
            "755/755 [==============================] - 1s 2ms/step - loss: -12552569.0000 - accuracy: 0.0000e+00\n",
            "Epoch 41/50\n",
            "755/755 [==============================] - 1s 2ms/step - loss: -13415266.0000 - accuracy: 0.0000e+00\n",
            "Epoch 42/50\n",
            "755/755 [==============================] - 1s 2ms/step - loss: -14313400.0000 - accuracy: 0.0000e+00\n",
            "Epoch 43/50\n",
            "755/755 [==============================] - 1s 2ms/step - loss: -15250358.0000 - accuracy: 0.0000e+00\n",
            "Epoch 44/50\n",
            "755/755 [==============================] - 1s 2ms/step - loss: -16226638.0000 - accuracy: 0.0000e+00\n",
            "Epoch 45/50\n",
            "755/755 [==============================] - 2s 3ms/step - loss: -17238454.0000 - accuracy: 0.0000e+00\n",
            "Epoch 46/50\n",
            "755/755 [==============================] - 2s 3ms/step - loss: -18282438.0000 - accuracy: 0.0000e+00\n",
            "Epoch 47/50\n",
            "755/755 [==============================] - 1s 2ms/step - loss: -19373790.0000 - accuracy: 0.0000e+00\n",
            "Epoch 48/50\n",
            "755/755 [==============================] - 1s 2ms/step - loss: -20509148.0000 - accuracy: 0.0000e+00\n",
            "Epoch 49/50\n",
            "755/755 [==============================] - 1s 2ms/step - loss: -21689338.0000 - accuracy: 0.0000e+00\n",
            "Epoch 50/50\n",
            "755/755 [==============================] - 1s 2ms/step - loss: -22913688.0000 - accuracy: 0.0000e+00\n",
            "Epoch 1/50\n",
            "755/755 [==============================] - 2s 2ms/step - loss: -69.3262 - accuracy: 0.0000e+00\n",
            "Epoch 2/50\n",
            "755/755 [==============================] - 2s 3ms/step - loss: -1456.3062 - accuracy: 0.0000e+00\n",
            "Epoch 3/50\n",
            "755/755 [==============================] - 2s 2ms/step - loss: -6162.0801 - accuracy: 0.0000e+00\n",
            "Epoch 4/50\n",
            "755/755 [==============================] - 1s 2ms/step - loss: -15186.1504 - accuracy: 0.0000e+00\n",
            "Epoch 5/50\n",
            "755/755 [==============================] - 1s 2ms/step - loss: -29122.2129 - accuracy: 0.0000e+00\n",
            "Epoch 6/50\n",
            "755/755 [==============================] - 1s 2ms/step - loss: -48516.6367 - accuracy: 0.0000e+00\n",
            "Epoch 7/50\n",
            "755/755 [==============================] - 1s 2ms/step - loss: -73713.5078 - accuracy: 0.0000e+00\n",
            "Epoch 8/50\n",
            "755/755 [==============================] - 1s 2ms/step - loss: -105110.4219 - accuracy: 0.0000e+00\n",
            "Epoch 9/50\n",
            "755/755 [==============================] - 1s 2ms/step - loss: -143164.2344 - accuracy: 0.0000e+00\n",
            "Epoch 10/50\n",
            "755/755 [==============================] - 2s 3ms/step - loss: -188323.8281 - accuracy: 0.0000e+00\n",
            "Epoch 11/50\n",
            "755/755 [==============================] - 2s 3ms/step - loss: -241042.5469 - accuracy: 0.0000e+00\n",
            "Epoch 12/50\n",
            "755/755 [==============================] - 2s 2ms/step - loss: -301748.3125 - accuracy: 0.0000e+00\n",
            "Epoch 13/50\n",
            "755/755 [==============================] - 1s 2ms/step - loss: -370924.0000 - accuracy: 0.0000e+00\n",
            "Epoch 14/50\n",
            "755/755 [==============================] - 1s 2ms/step - loss: -449182.0625 - accuracy: 0.0000e+00\n",
            "Epoch 15/50\n",
            "755/755 [==============================] - 1s 2ms/step - loss: -536576.9375 - accuracy: 0.0000e+00\n",
            "Epoch 16/50\n",
            "755/755 [==============================] - 1s 2ms/step - loss: -633760.6250 - accuracy: 0.0000e+00\n",
            "Epoch 17/50\n",
            "755/755 [==============================] - 1s 2ms/step - loss: -741283.5625 - accuracy: 0.0000e+00\n",
            "Epoch 18/50\n",
            "755/755 [==============================] - 1s 2ms/step - loss: -859291.1875 - accuracy: 0.0000e+00\n",
            "Epoch 19/50\n",
            "755/755 [==============================] - 2s 3ms/step - loss: -988707.1875 - accuracy: 0.0000e+00\n",
            "Epoch 20/50\n",
            "755/755 [==============================] - 2s 3ms/step - loss: -1129847.0000 - accuracy: 0.0000e+00\n",
            "Epoch 21/50\n",
            "755/755 [==============================] - 1s 2ms/step - loss: -1282530.5000 - accuracy: 0.0000e+00\n",
            "Epoch 22/50\n",
            "755/755 [==============================] - 1s 2ms/step - loss: -1448088.7500 - accuracy: 0.0000e+00\n",
            "Epoch 23/50\n",
            "755/755 [==============================] - 1s 2ms/step - loss: -1626867.8750 - accuracy: 0.0000e+00\n",
            "Epoch 24/50\n",
            "755/755 [==============================] - 1s 2ms/step - loss: -1819365.0000 - accuracy: 0.0000e+00\n",
            "Epoch 25/50\n",
            "755/755 [==============================] - 1s 2ms/step - loss: -2025634.8750 - accuracy: 0.0000e+00\n",
            "Epoch 26/50\n",
            "755/755 [==============================] - 1s 2ms/step - loss: -2245863.5000 - accuracy: 0.0000e+00\n",
            "Epoch 27/50\n",
            "755/755 [==============================] - 2s 3ms/step - loss: -2480324.0000 - accuracy: 0.0000e+00\n",
            "Epoch 28/50\n",
            "755/755 [==============================] - 2s 3ms/step - loss: -2729671.0000 - accuracy: 0.0000e+00\n",
            "Epoch 29/50\n",
            "755/755 [==============================] - 2s 2ms/step - loss: -2995410.2500 - accuracy: 0.0000e+00\n",
            "Epoch 30/50\n",
            "755/755 [==============================] - 1s 2ms/step - loss: -3276977.5000 - accuracy: 0.0000e+00\n",
            "Epoch 31/50\n",
            "755/755 [==============================] - 1s 2ms/step - loss: -3574728.5000 - accuracy: 0.0000e+00\n",
            "Epoch 32/50\n",
            "755/755 [==============================] - 1s 2ms/step - loss: -3890017.7500 - accuracy: 0.0000e+00\n",
            "Epoch 33/50\n",
            "755/755 [==============================] - 1s 2ms/step - loss: -4222628.0000 - accuracy: 0.0000e+00\n",
            "Epoch 34/50\n",
            "755/755 [==============================] - 1s 2ms/step - loss: -4573163.0000 - accuracy: 0.0000e+00\n",
            "Epoch 35/50\n",
            "755/755 [==============================] - 1s 2ms/step - loss: -4941488.5000 - accuracy: 0.0000e+00\n",
            "Epoch 36/50\n",
            "755/755 [==============================] - 2s 3ms/step - loss: -5328280.5000 - accuracy: 0.0000e+00\n",
            "Epoch 37/50\n",
            "755/755 [==============================] - 2s 3ms/step - loss: -5733758.5000 - accuracy: 0.0000e+00\n",
            "Epoch 38/50\n",
            "755/755 [==============================] - 1s 2ms/step - loss: -6158836.5000 - accuracy: 0.0000e+00\n",
            "Epoch 39/50\n",
            "755/755 [==============================] - 1s 2ms/step - loss: -6603411.5000 - accuracy: 0.0000e+00\n",
            "Epoch 40/50\n",
            "755/755 [==============================] - 1s 2ms/step - loss: -7068945.5000 - accuracy: 0.0000e+00\n",
            "Epoch 41/50\n",
            "755/755 [==============================] - 1s 2ms/step - loss: -7555078.5000 - accuracy: 0.0000e+00\n",
            "Epoch 42/50\n",
            "755/755 [==============================] - 1s 2ms/step - loss: -8061950.0000 - accuracy: 0.0000e+00\n",
            "Epoch 43/50\n",
            "755/755 [==============================] - 1s 2ms/step - loss: -8591650.0000 - accuracy: 0.0000e+00\n",
            "Epoch 44/50\n",
            "755/755 [==============================] - 2s 2ms/step - loss: -9140960.0000 - accuracy: 0.0000e+00\n",
            "Epoch 45/50\n",
            "755/755 [==============================] - 2s 3ms/step - loss: -9714878.0000 - accuracy: 0.0000e+00\n",
            "Epoch 46/50\n",
            "755/755 [==============================] - 1s 2ms/step - loss: -10312151.0000 - accuracy: 0.0000e+00\n",
            "Epoch 47/50\n",
            "755/755 [==============================] - 1s 2ms/step - loss: -10933754.0000 - accuracy: 0.0000e+00\n",
            "Epoch 48/50\n",
            "755/755 [==============================] - 1s 2ms/step - loss: -11579072.0000 - accuracy: 0.0000e+00\n",
            "Epoch 49/50\n",
            "755/755 [==============================] - 1s 2ms/step - loss: -12248292.0000 - accuracy: 0.0000e+00\n",
            "Epoch 50/50\n",
            "755/755 [==============================] - 1s 2ms/step - loss: -12941813.0000 - accuracy: 0.0000e+00\n",
            "Epoch 1/50\n",
            "755/755 [==============================] - 2s 2ms/step - loss: -9.3121 - accuracy: 0.0000e+00\n",
            "Epoch 2/50\n",
            "755/755 [==============================] - 2s 3ms/step - loss: -246.9811 - accuracy: 0.0000e+00\n",
            "Epoch 3/50\n",
            "755/755 [==============================] - 2s 3ms/step - loss: -1173.5248 - accuracy: 0.0000e+00\n",
            "Epoch 4/50\n",
            "755/755 [==============================] - 2s 2ms/step - loss: -3064.5305 - accuracy: 0.0000e+00\n",
            "Epoch 5/50\n",
            "755/755 [==============================] - 1s 2ms/step - loss: -6099.5596 - accuracy: 0.0000e+00\n",
            "Epoch 6/50\n",
            "755/755 [==============================] - 1s 2ms/step - loss: -10342.3037 - accuracy: 0.0000e+00\n",
            "Epoch 7/50\n",
            "755/755 [==============================] - 1s 2ms/step - loss: -15885.9053 - accuracy: 0.0000e+00\n",
            "Epoch 8/50\n",
            "755/755 [==============================] - 1s 2ms/step - loss: -22820.8438 - accuracy: 0.0000e+00\n",
            "Epoch 9/50\n",
            "755/755 [==============================] - 1s 2ms/step - loss: -31231.8867 - accuracy: 0.0000e+00\n",
            "Epoch 10/50\n",
            "755/755 [==============================] - 1s 2ms/step - loss: -41347.0117 - accuracy: 0.0000e+00\n",
            "Epoch 11/50\n",
            "755/755 [==============================] - 2s 3ms/step - loss: -53207.5039 - accuracy: 0.0000e+00\n",
            "Epoch 12/50\n",
            "755/755 [==============================] - 2s 3ms/step - loss: -66859.2656 - accuracy: 0.0000e+00\n",
            "Epoch 13/50\n",
            "755/755 [==============================] - 1s 2ms/step - loss: -82380.3281 - accuracy: 0.0000e+00\n",
            "Epoch 14/50\n",
            "755/755 [==============================] - 1s 2ms/step - loss: -99952.4922 - accuracy: 0.0000e+00\n",
            "Epoch 15/50\n",
            "755/755 [==============================] - 1s 2ms/step - loss: -119669.9922 - accuracy: 0.0000e+00\n",
            "Epoch 16/50\n",
            "755/755 [==============================] - 1s 2ms/step - loss: -141605.6094 - accuracy: 0.0000e+00\n",
            "Epoch 17/50\n",
            "755/755 [==============================] - 1s 2ms/step - loss: -165871.2812 - accuracy: 0.0000e+00\n",
            "Epoch 18/50\n",
            "755/755 [==============================] - 1s 2ms/step - loss: -192400.7500 - accuracy: 0.0000e+00\n",
            "Epoch 19/50\n",
            "755/755 [==============================] - 2s 2ms/step - loss: -221528.9688 - accuracy: 0.0000e+00\n",
            "Epoch 20/50\n",
            "755/755 [==============================] - 2s 3ms/step - loss: -253442.5469 - accuracy: 0.0000e+00\n",
            "Epoch 21/50\n",
            "755/755 [==============================] - 2s 2ms/step - loss: -288146.8750 - accuracy: 0.0000e+00\n",
            "Epoch 22/50\n",
            "755/755 [==============================] - 1s 2ms/step - loss: -325606.4375 - accuracy: 0.0000e+00\n",
            "Epoch 23/50\n",
            "755/755 [==============================] - 1s 2ms/step - loss: -366147.5938 - accuracy: 0.0000e+00\n",
            "Epoch 24/50\n",
            "755/755 [==============================] - 1s 2ms/step - loss: -409938.2500 - accuracy: 0.0000e+00\n",
            "Epoch 25/50\n",
            "755/755 [==============================] - 1s 2ms/step - loss: -456954.2188 - accuracy: 0.0000e+00\n",
            "Epoch 26/50\n",
            "755/755 [==============================] - 1s 2ms/step - loss: -507203.5938 - accuracy: 0.0000e+00\n",
            "Epoch 27/50\n",
            "755/755 [==============================] - 1s 2ms/step - loss: -561011.1250 - accuracy: 0.0000e+00\n",
            "Epoch 28/50\n",
            "755/755 [==============================] - 2s 3ms/step - loss: -618392.0000 - accuracy: 0.0000e+00\n",
            "Epoch 29/50\n",
            "755/755 [==============================] - 2s 3ms/step - loss: -679251.3125 - accuracy: 0.0000e+00\n",
            "Epoch 30/50\n",
            "755/755 [==============================] - 1s 2ms/step - loss: -743609.4375 - accuracy: 0.0000e+00\n",
            "Epoch 31/50\n",
            "755/755 [==============================] - 1s 2ms/step - loss: -811811.8125 - accuracy: 0.0000e+00\n",
            "Epoch 32/50\n",
            "755/755 [==============================] - 1s 2ms/step - loss: -884129.1250 - accuracy: 0.0000e+00\n",
            "Epoch 33/50\n",
            "755/755 [==============================] - 1s 2ms/step - loss: -960361.0000 - accuracy: 0.0000e+00\n",
            "Epoch 34/50\n",
            "755/755 [==============================] - 1s 2ms/step - loss: -1040776.8750 - accuracy: 0.0000e+00\n",
            "Epoch 35/50\n",
            "755/755 [==============================] - 1s 2ms/step - loss: -1125372.3750 - accuracy: 0.0000e+00\n",
            "Epoch 36/50\n",
            "755/755 [==============================] - 2s 2ms/step - loss: -1214238.0000 - accuracy: 0.0000e+00\n",
            "Epoch 37/50\n",
            "755/755 [==============================] - 2s 3ms/step - loss: -1307535.1250 - accuracy: 0.0000e+00\n",
            "Epoch 38/50\n",
            "755/755 [==============================] - 1s 2ms/step - loss: -1405383.5000 - accuracy: 0.0000e+00\n",
            "Epoch 39/50\n",
            "755/755 [==============================] - 1s 2ms/step - loss: -1508061.8750 - accuracy: 0.0000e+00\n",
            "Epoch 40/50\n",
            "755/755 [==============================] - 1s 2ms/step - loss: -1615334.2500 - accuracy: 0.0000e+00\n",
            "Epoch 41/50\n",
            "755/755 [==============================] - 1s 2ms/step - loss: -1721510.3750 - accuracy: 0.0000e+00\n",
            "Epoch 42/50\n",
            "755/755 [==============================] - 1s 2ms/step - loss: -1826208.5000 - accuracy: 0.0000e+00\n",
            "Epoch 43/50\n",
            "755/755 [==============================] - 1s 2ms/step - loss: -1940391.7500 - accuracy: 0.0000e+00\n",
            "Epoch 44/50\n",
            "755/755 [==============================] - 1s 2ms/step - loss: -2062454.2500 - accuracy: 0.0000e+00\n",
            "Epoch 45/50\n",
            "755/755 [==============================] - 2s 3ms/step - loss: -2191314.7500 - accuracy: 0.0000e+00\n",
            "Epoch 46/50\n",
            "755/755 [==============================] - 2s 3ms/step - loss: -2326756.7500 - accuracy: 0.0000e+00\n",
            "Epoch 47/50\n",
            "755/755 [==============================] - 1s 2ms/step - loss: -2466925.7500 - accuracy: 0.0000e+00\n",
            "Epoch 48/50\n",
            "755/755 [==============================] - 1s 2ms/step - loss: -2612853.7500 - accuracy: 0.0000e+00\n",
            "Epoch 49/50\n",
            "755/755 [==============================] - 1s 2ms/step - loss: -2765432.0000 - accuracy: 0.0000e+00\n",
            "Epoch 50/50\n",
            "755/755 [==============================] - 1s 2ms/step - loss: -2923540.7500 - accuracy: 0.0000e+00\n"
          ]
        }
      ]
    },
    {
      "cell_type": "code",
      "source": [
        "# Evaluate the predictive model\n",
        "y_test_pred = predictor.predict(X_test).flatten()\n",
        "test_accuracy = accuracy_score(y_test, np.round(y_test_pred))\n",
        "print(f\"Test Accuracy: {test_accuracy}\")"
      ],
      "metadata": {
        "colab": {
          "base_uri": "https://localhost:8080/"
        },
        "id": "yv7Jsd-h2I24",
        "outputId": "07b12424-72f3-402c-897e-c2229832f21f"
      },
      "execution_count": 37,
      "outputs": [
        {
          "output_type": "stream",
          "name": "stdout",
          "text": [
            "189/189 [==============================] - 1s 4ms/step\n",
            "Test Accuracy: 0.8412066965025692\n"
          ]
        }
      ]
    },
    {
      "cell_type": "code",
      "source": [
        "# Evaluate the adversarial models\n",
        "adversary_accuracies = {}\n",
        "for feature in adversaries:\n",
        "    adversary_pred = adversaries[feature].predict(X_test).flatten()\n",
        "    adversary_accuracies[feature] = accuracy_score(np.round(X_test[:, list(data.columns).index(feature)]), np.round(adversary_pred))\n",
        "    print(f\"Adversary Accuracy for {feature}: {adversary_accuracies[feature]}\")"
      ],
      "metadata": {
        "colab": {
          "base_uri": "https://localhost:8080/"
        },
        "id": "Qr03qG5b4lDY",
        "outputId": "a17cf1b8-f1ae-4241-ac75-2400493c4076"
      },
      "execution_count": 38,
      "outputs": [
        {
          "output_type": "stream",
          "name": "stdout",
          "text": [
            "189/189 [==============================] - 1s 5ms/step\n",
            "Adversary Accuracy for sex_ Male: 0.2778054036134593\n",
            "189/189 [==============================] - 1s 3ms/step\n",
            "Adversary Accuracy for race_ White: 0.6268854632852644\n",
            "189/189 [==============================] - 1s 3ms/step\n",
            "Adversary Accuracy for race_ Black: 0.8988894414056026\n",
            "189/189 [==============================] - 0s 1ms/step\n",
            "Adversary Accuracy for race_ Asian-Pac-Islander: 0.9675120172385214\n",
            "189/189 [==============================] - 0s 1ms/step\n",
            "Adversary Accuracy for race_ Other: 0.9923752693518979\n"
          ]
        }
      ]
    },
    {
      "cell_type": "code",
      "source": [
        "# Calculate demographic parity difference for sex\n",
        "dp_difference_sex = demographic_parity_difference(y_test, np.round(y_test_pred), sensitive_features=(X_test[:, list(data.columns).index('sex_ Male')]))\n",
        "print(f\"Demographic Parity Difference (Sex): {dp_difference_sex}\")\n",
        "\n",
        "# Calculate demographic parity difference for race\n",
        "race_columns = [list(data.columns).index('race_ White'), list(data.columns).index('race_ Black'), list(data.columns).index('race_ Asian-Pac-Islander'), list(data.columns).index('race_ Other')]\n",
        "dp_difference_race = demographic_parity_difference(y_test, np.round(y_test_pred), sensitive_features=(X_test[:, race_columns].argmax(axis=1)))\n",
        "print(f\"Demographic Parity Difference (Race): {dp_difference_race}\")"
      ],
      "metadata": {
        "colab": {
          "base_uri": "https://localhost:8080/"
        },
        "id": "-0WDMzFq4npq",
        "outputId": "79e3e7c8-6405-4754-a609-f29e38b20184"
      },
      "execution_count": 40,
      "outputs": [
        {
          "output_type": "stream",
          "name": "stdout",
          "text": [
            "Demographic Parity Difference (Sex): 0.17736477364773645\n",
            "Demographic Parity Difference (Race): 0.20809614168247945\n"
          ]
        }
      ]
    },
    {
      "cell_type": "code",
      "source": [],
      "metadata": {
        "id": "bciXIzOU4qkZ"
      },
      "execution_count": null,
      "outputs": []
    }
  ]
}